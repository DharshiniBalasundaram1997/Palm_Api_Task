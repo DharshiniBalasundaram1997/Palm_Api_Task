{
 "cells": [
  {
   "cell_type": "code",
   "execution_count": 2,
   "id": "7dc319c7",
   "metadata": {},
   "outputs": [],
   "source": [
    "import requests\n",
    "import pytest"
   ]
  },
  {
   "cell_type": "code",
   "execution_count": 3,
   "id": "49a2b822",
   "metadata": {},
   "outputs": [],
   "source": [
    "BASE_URL = \"https://httpbin.org\""
   ]
  },
  {
   "cell_type": "code",
   "execution_count": null,
   "id": "501399a5",
   "metadata": {},
   "outputs": [],
   "source": [
    "# CREATE (POST)\n",
    "def test_create_user():\n",
    "    url = f\"{BASE_URL}/post\"\n",
    "    payload = {\n",
    "        \"id\": 101,\n",
    "        \"name\": \"Dhas\",\n",
    "        \"age\": 25,\n",
    "        \"role\": \"QA Engineer\"\n",
    "    }\n",
    "    response = requests.post(url, json=payload)\n",
    "\n",
    "    assert response.status_code == 200\n",
    "    data = response.json()\n",
    "\n",
    "    # Validate the JSON echoed by httpbin.org\n",
    "    assert data[\"json\"][\"name\"] == \"Dhas\"\n",
    "    assert data[\"json\"][\"age\"] == 25\n",
    "    assert data[\"json\"][\"role\"] == \"QA Engineer\"\n",
    "    print(\"\\n POST (Create User):\", data[\"json\"])"
   ]
  },
  {
   "cell_type": "code",
   "execution_count": 14,
   "id": "60b8dc81",
   "metadata": {},
   "outputs": [
    {
     "name": "stdout",
     "output_type": "stream",
     "text": [
      "\n",
      " POST (Create User): {'age': 25, 'id': 101, 'name': 'Dhas', 'role': 'QA Engineer'}\n"
     ]
    }
   ],
   "source": [
    "test_create_user()"
   ]
  },
  {
   "cell_type": "code",
   "execution_count": 15,
   "id": "a8d0cf2a",
   "metadata": {},
   "outputs": [],
   "source": [
    "# READ (GET)\n",
    "def test_get_user():\n",
    "    url = f\"{BASE_URL}/get\"\n",
    "    params = {\"id\": 101, \"name\": \"Dhas\"}\n",
    "    response = requests.get(url, params=params)\n",
    "\n",
    "    assert response.status_code == 200\n",
    "    data = response.json()\n",
    "\n",
    "    assert data[\"args\"][\"id\"] == \"101\"\n",
    "    assert data[\"args\"][\"name\"] == \"Dhas\"\n",
    "    print(\"\\n GET (Read User):\", data[\"args\"])"
   ]
  },
  {
   "cell_type": "code",
   "execution_count": 16,
   "id": "6d10c097",
   "metadata": {},
   "outputs": [
    {
     "name": "stdout",
     "output_type": "stream",
     "text": [
      "\n",
      " GET (Read User): {'id': '101', 'name': 'Dhas'}\n"
     ]
    }
   ],
   "source": [
    "test_get_user()"
   ]
  },
  {
   "cell_type": "code",
   "execution_count": 19,
   "id": "cddf09ec",
   "metadata": {},
   "outputs": [],
   "source": [
    "# UPDATE (PUT)\n",
    "def test_update_user():\n",
    "    url = f\"{BASE_URL}/put\"\n",
    "    payload = {\n",
    "        \"id\": 101,\n",
    "        \"name\": \"Dhas\",\n",
    "        \"age\": 26,\n",
    "        \"role\": \"Senior QA Engineer\"\n",
    "    }\n",
    "\n",
    "    response = requests.put(url, json=payload)\n",
    "    assert response.status_code == 200\n",
    "    data = response.json()\n",
    "\n",
    "    assert data[\"json\"][\"age\"] == 26\n",
    "    assert data[\"json\"][\"role\"] == \"Senior QA Engineer\"\n",
    "    print(\"\\n PUT (Update User):\", data[\"json\"])"
   ]
  },
  {
   "cell_type": "code",
   "execution_count": 20,
   "id": "eee98f17",
   "metadata": {},
   "outputs": [
    {
     "name": "stdout",
     "output_type": "stream",
     "text": [
      "\n",
      " PUT (Update User): {'age': 26, 'id': 101, 'name': 'Dhas', 'role': 'Senior QA Engineer'}\n"
     ]
    }
   ],
   "source": [
    "test_update_user()"
   ]
  },
  {
   "cell_type": "code",
   "execution_count": 25,
   "id": "c61e76ee",
   "metadata": {},
   "outputs": [],
   "source": [
    "# Partial update on role(PATCH)\n",
    "def test_patch_user():\n",
    "    url = f\"{BASE_URL}/patch\"\n",
    "    payload = {\n",
    "        \"role\": \"QA\"\n",
    "    }\n",
    "\n",
    "    response = requests.patch(url, json=payload)\n",
    "    assert response.status_code == 200\n",
    "    data = response.json()\n",
    "\n",
    "    assert data[\"json\"][\"role\"] == \"QA\"\n",
    "    print(\"\\n PATCH (Partial Update):\", data[\"json\"])"
   ]
  },
  {
   "cell_type": "code",
   "execution_count": 26,
   "id": "d93adafc",
   "metadata": {},
   "outputs": [
    {
     "name": "stdout",
     "output_type": "stream",
     "text": [
      "\n",
      " PATCH (Partial Update): {'role': 'QA'}\n"
     ]
    }
   ],
   "source": [
    "test_patch_user()"
   ]
  },
  {
   "cell_type": "code",
   "execution_count": 27,
   "id": "fbd4f7dd",
   "metadata": {},
   "outputs": [],
   "source": [
    "# DELETE USER\n",
    "def test_delete_user():\n",
    "    url = f\"{BASE_URL}/delete\"\n",
    "    params = {\"id\": 101}\n",
    "\n",
    "    response = requests.delete(url, params=params)\n",
    "    assert response.status_code == 200\n",
    "    data = response.json()\n",
    "\n",
    "    assert data[\"args\"][\"id\"] == \"101\"\n",
    "    print(\"\\n DELETE (Remove User):\", data[\"args\"])\n"
   ]
  },
  {
   "cell_type": "code",
   "execution_count": 28,
   "id": "48b6d8c0",
   "metadata": {},
   "outputs": [
    {
     "name": "stdout",
     "output_type": "stream",
     "text": [
      "\n",
      " DELETE (Remove User): {'id': '101'}\n"
     ]
    }
   ],
   "source": [
    "test_delete_user()"
   ]
  }
 ],
 "metadata": {
  "kernelspec": {
   "display_name": ".venv",
   "language": "python",
   "name": "python3"
  },
  "language_info": {
   "codemirror_mode": {
    "name": "ipython",
    "version": 3
   },
   "file_extension": ".py",
   "mimetype": "text/x-python",
   "name": "python",
   "nbconvert_exporter": "python",
   "pygments_lexer": "ipython3",
   "version": "3.10.11"
  }
 },
 "nbformat": 4,
 "nbformat_minor": 5
}
